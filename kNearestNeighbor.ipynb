{
 "cells": [
  {
   "cell_type": "markdown",
   "metadata": {},
   "source": [
    "# kNearestNeighbor Algorithm\n",
    "\n",
    "#### Ishita Kapur, UTA ID: 1001753123\n",
    "\n",
    "k-Nearest Neighbor(k-NN) is an instance-based supervised learning algorithm which classifies a new instance by comparing it with already stored instances in the memory that have already been seen in training. k being the number of neighbors which are considered.\n",
    "\n",
    "This implementation of the algorithm is built from scratch. It includes **10-fold cross validation** and **vectorized distance computation**. It compares the performance of the algorithm(accuracy) using different distance metrics and different k(number of neighbor) values.\n",
    "\n",
    "The **datasets** used for comparing the model accuracies are as follows:\n",
    "\n",
    "    1. Hayes-Roth Dataset\n",
    "    2. Car Evaluation Dataset\n",
    "    3. Breast Cancer Dataset\n",
    "\n",
    "The different **distance metrics** used for comparing the model accuracies are as follows:\n",
    "\n",
    "    1. Vectorized Computation: (using numpy)\n",
    "        * Euclidean Distance\n",
    "        * Manhattan Distance\n",
    "        * Minkowski Distance\n",
    "    2. 2-Loop Computation:\n",
    "        * Hamming Distance\n",
    "\n",
    "The different **k values** used for comparing the model accuracies are as follows:\n",
    "\n",
    "    1, 3, 5, 7, 9\n",
    "\n",
    "### Preprocessing data\n",
    "\n",
    "Most machine learning models work with only numeric data. In the **Hayes-Roth Dataset** the column **'name'** needs to be dropped, because even though it is numeric data it is unique for each row in the data set and it is just like an identity and does not provide information related to the class. The **Car Evaluation Dataset** and **Breast Cancer Dataset** have categorical textual data. The data was converted into numeric using preprocessing. The columns had to be reindexed because the model assumes the last column to be the **class** label. The code used for preprocessing data is in the **PreprocessData.ipynb Notebook** in the same folder as this Notebook. The preprocessed datasets are used for comparing model accuracies."
   ]
  },
  {
   "cell_type": "markdown",
   "metadata": {},
   "source": [
    "### Implementation"
   ]
  },
  {
   "cell_type": "markdown",
   "metadata": {},
   "source": [
    "Required python libraries are imported."
   ]
  },
  {
   "cell_type": "code",
   "execution_count": 1,
   "metadata": {},
   "outputs": [],
   "source": [
    "import pandas as pd\n",
    "import numpy as np"
   ]
  },
  {
   "cell_type": "markdown",
   "metadata": {},
   "source": [
    "**Vectorized Computation Functions**\n",
    "\n",
    "These functions are much faster than the traditional 2-loop computations for distances. These functions work on Numpy ndarrays. It computes a distance matrix using the train and test datasets. The class is then predicted by finding the most common class from the k nearest neighbors(least distance, more similarity)."
   ]
  },
  {
   "cell_type": "code",
   "execution_count": 2,
   "metadata": {},
   "outputs": [],
   "source": [
    "def vectorizedEuclidean(train, test, train_label, no_neighbors):\n",
    "    num_train = train.shape[0]\n",
    "    num_test = test.shape[0]\n",
    "    dists = np.zeros((num_test, num_train))\n",
    "    dists = np.sqrt(np.sum(np.square(test[:,np.newaxis,:] - train), axis=2))\n",
    "    predicted = predictClass(dists, no_neighbors, train_label)\n",
    "    return predicted\n",
    "\n",
    "def vectorizedManhattan(train, test, train_label, no_neighbors):\n",
    "    num_train = train.shape[0]\n",
    "    num_test = test.shape[0]\n",
    "    dists = np.absolute(np.sum(test[:,np.newaxis,:] - train, axis=2))\n",
    "    predicted = predictClass(dists, no_neighbors, train_label)\n",
    "    return predicted\n",
    "\n",
    "def vectorizedMinkowski(train, test, train_label, no_neighbors):\n",
    "    num_train = train.shape[0]\n",
    "    num_test = test.shape[0]\n",
    "    dists = np.zeros((num_test, num_train))\n",
    "    dists = np.sum(np.power((test[:,np.newaxis,:] - train), 5), axis=2, dtype=np.complex)**(1/5)\n",
    "    predicted = predictClass(dists, no_neighbors, train_label)\n",
    "    return predicted"
   ]
  },
  {
   "cell_type": "markdown",
   "metadata": {},
   "source": [
    "**2-loop Distance Computation**\n",
    "\n",
    "The functions defined below are the traditional way of computing distances using 2-loops. These are slower and takes very long for larger dataset, for e.g: Car Evaluation Dataset. These have been implemented but not all have been used in the model accuracy comparison. The function for *Hamming Distance* is the only one being used from the ones listed below."
   ]
  },
  {
   "cell_type": "code",
   "execution_count": 3,
   "metadata": {},
   "outputs": [],
   "source": [
    "def euclideanDistance(datarow_1, datarow_2):\n",
    "    dist = 0\n",
    "    for i in range(len(datarow_1) - 1):\n",
    "        dist = dist + np.square(datarow_1[i] - datarow_2[i])\n",
    "    return np.sqrt(dist)\n",
    "\n",
    "def manhattanDistance(datarow_1, datarow_2):\n",
    "    dist = 0\n",
    "    for i in range(len(datarow_1) - 1):\n",
    "        dist = dist + abs(datarow_1[i] - datarow_2[i])\n",
    "    return dist\n",
    "\n",
    "def minkowskiDistance(datarow_1, datarow_2):\n",
    "    dist = 0\n",
    "    order = 5\n",
    "    for i in range(len(datarow_1) - 1):\n",
    "        dist = dist + pow(abs(datarow_1[i] - datarow_2[i]), order)\n",
    "    return pow(dist, (1/order))\n",
    "\n",
    "def hammingDistance(a, b):\n",
    "    r = (1 << np.arange(8))[:,None]\n",
    "    return np.count_nonzero((np.bitwise_xor(a,b) & r) != 0)"
   ]
  },
  {
   "cell_type": "markdown",
   "metadata": {},
   "source": [
    "**k-fold**\n",
    "\n",
    "Following is the function for splitting the datasets into k-folds to perform k-fold cross validation."
   ]
  },
  {
   "cell_type": "code",
   "execution_count": 4,
   "metadata": {},
   "outputs": [],
   "source": [
    "def splitDatasetKFolds(dataset, n_folds):\n",
    "    shuffled = dataset.sample(frac=1)\n",
    "    result = np.array_split(shuffled, n_folds)\n",
    "    return result"
   ]
  },
  {
   "cell_type": "markdown",
   "metadata": {},
   "source": [
    "**Predicting the class**\n",
    "\n",
    "The function below predicts the class for the test dataset by using the vectorized distance computation. It find the most common class among the k nearest neighbors."
   ]
  },
  {
   "cell_type": "code",
   "execution_count": 5,
   "metadata": {},
   "outputs": [],
   "source": [
    "def predictClass(a, N, train_label):\n",
    "    idx = np.argpartition(a, N, axis=1)[:, :N]\n",
    "    indices = idx.ravel()\n",
    "    out = train_label[indices]\n",
    "    output = out.reshape(idx.shape)\n",
    "    predicted_class = []\n",
    "    for row in output:\n",
    "        elements, counts = np.unique(row, return_counts=True)\n",
    "        predicted_class.append(elements[np.argmax(counts)])\n",
    "    return predicted_class"
   ]
  },
  {
   "cell_type": "markdown",
   "metadata": {},
   "source": [
    "Other helper functions used to predict the test data classes are defined below. These have been defined to compute the distances, find the neighbors and finally pedict the class of the test data. Functions to compute accuracy and mean accuracy have also been defined below."
   ]
  },
  {
   "cell_type": "code",
   "execution_count": 6,
   "metadata": {},
   "outputs": [],
   "source": [
    "def getNeighbors(train, testrow, no_neighbors, distanceMetric):\n",
    "    distances = list()\n",
    "    for trainrow in train:\n",
    "        row_dist = distanceMetric(trainrow, testrow)\n",
    "        distances.append((trainrow, row_dist))\n",
    "    distances.sort(key=lambda attr: attr[1])\n",
    "    neighbors = list()\n",
    "    for i in range(no_neighbors):\n",
    "        neighbors.append(distances[i][0])\n",
    "    return neighbors\n",
    "\n",
    "def makePrediction(train, testrow, no_neighbors, distanceMetric):\n",
    "    neighbors = getNeighbors(train, testrow, no_neighbors, distanceMetric)\n",
    "    output = [row[-1] for row in neighbors]\n",
    "    prediction = max(set(output), key = output.count)\n",
    "    return prediction\n",
    "\n",
    "def kNN(train, test, no_neighbors, distanceMetric):\n",
    "    predictions = list()\n",
    "    for row in test:\n",
    "        output = makePrediction(train, row, no_neighbors, distanceMetric)\n",
    "        predictions.append(output)\n",
    "    return predictions\n",
    "\n",
    "def computeAccuracy(actual, predicted):\n",
    "    correct = 0\n",
    "    for i in range(len(actual)):\n",
    "        if actual[i] == predicted[i]:\n",
    "            correct += 1\n",
    "    return (correct / len(actual)) * 100.0\n",
    "\n",
    "def meanAccuracy(accuracies):\n",
    "    return (sum(accuracies)/float(len(accuracies)))"
   ]
  },
  {
   "cell_type": "markdown",
   "metadata": {},
   "source": [
    "Function for performing kNN using 10-fold cross validation."
   ]
  },
  {
   "cell_type": "code",
   "execution_count": 7,
   "metadata": {},
   "outputs": [],
   "source": [
    "def performKNN(dataset, algorithm, n_folds, no_neighbors, distanceMetric, accuracies_df):\n",
    "    cv_split = splitDatasetKFolds(dataset, n_folds)\n",
    "    accuracies = list()\n",
    "    for i in range(n_folds):\n",
    "        cv_train = cv_split.copy()\n",
    "        cv_test = cv_split[i]\n",
    "        del cv_train[i]\n",
    "        cv_train = pd.concat(cv_train, sort=False)\n",
    "        train_set = cv_train.iloc[:,:-1].to_numpy()\n",
    "        train_label = cv_train.iloc[:,-1].to_numpy()\n",
    "        test_set = cv_test.iloc[:,:-1].to_numpy()\n",
    "        cv_train_list = cv_train.iloc[:,:-1].to_numpy().tolist()\n",
    "        cv_test_rows = cv_test.iloc[:,:-1].to_numpy().tolist()\n",
    "        actual_cv_test_label = cv_test.iloc[:,-1].to_list()\n",
    "        for key, metric in distanceMetric.items():\n",
    "            if not key.startswith('Vect'):\n",
    "                predicted = kNN(cv_train_list, cv_test_rows, no_neighbors, metric)\n",
    "                accuracy = computeAccuracy(actual_cv_test_label, predicted)\n",
    "                accuracies_df.loc[no_neighbors, key] = accuracy\n",
    "            else:\n",
    "                predicted = metric(train_set, test_set, train_label, no_neighbors)\n",
    "                accuracy = computeAccuracy(actual_cv_test_label, predicted)\n",
    "                accuracies_df.loc[no_neighbors, key] = accuracy\n",
    "    return accuracies"
   ]
  },
  {
   "cell_type": "markdown",
   "metadata": {},
   "source": [
    "The function below calls the performKNN function defined above to compute accuracies for different distance metrics and k-values. It computes the mean accuracy for all the distance metrics and displays the **best distance metric** and the **best k value** for any particular dataset. It also displays a plot for k-value(x-axis) vs accuracy(y-axis) for the different distance metrics."
   ]
  },
  {
   "cell_type": "code",
   "execution_count": 8,
   "metadata": {},
   "outputs": [],
   "source": [
    "def performAlgorithm(data):\n",
    "    \n",
    "    neigh = (1, 3, 5, 7, 9)\n",
    "    dist_metric = {'Vectorized Euclidean': vectorizedEuclidean, 'Vectorized Manhattan': vectorizedManhattan, 'Vectorized Minkowski': vectorizedMinkowski, 'Hamming Distance': hammingDistance}\n",
    "    metrics = list(dist_metric.keys())\n",
    "    accuracies_df = pd.DataFrame(index=neigh,columns=metrics)\n",
    "    for n in neigh:\n",
    "        accuracies = performKNN(data, kNN, 10, n, dist_metric, accuracies_df)\n",
    "    print('\\n\\033[1mAccuracy for different k and different distance metrics: \\033[0m')\n",
    "    print(accuracies_df)\n",
    "    \n",
    "    print('\\n\\033[1mMean Accuracies for different Distance Metrics: \\033[0m')\n",
    "    mean_accuracy = accuracies_df.mean()\n",
    "    print(mean_accuracy)\n",
    "    \n",
    "    best_metric = mean_accuracy.idxmax()\n",
    "    print('\\nDistance metric which performed best is \\033[1m' + best_metric + '\\033[0m with Mean Accuracy \\033[1m{:.2f}\\033[0m'.format(mean_accuracy.max()))\n",
    "    \n",
    "    best_accuracy = accuracies_df[best_metric].max()\n",
    "    print('\\nMaximum Accuracy : \\033[1m{:.2f}\\033[0m'.format(best_accuracy))\n",
    "    best_k = accuracies_df[accuracies_df[best_metric]==best_accuracy].index.values[0]\n",
    "    print('\\nBest k value is : \\033[1m' + str(best_k) + '\\033[0m')\n",
    "    \n",
    "    print('\\nPlot comparing accuracies for different Distance Metrics:')\n",
    "    compare = accuracies_df.plot.line()"
   ]
  },
  {
   "cell_type": "markdown",
   "metadata": {},
   "source": [
    "## kNN on Hayes-Roth Dataset"
   ]
  },
  {
   "cell_type": "code",
   "execution_count": 9,
   "metadata": {
    "scrolled": true
   },
   "outputs": [
    {
     "name": "stdout",
     "output_type": "stream",
     "text": [
      "\u001b[1mHayes Roth Dataset: \u001b[0m\n",
      "      hobby  age  educational_level  marital_status  class\n",
      "0        2    1                  1               2      1\n",
      "1        2    1                  3               2      2\n",
      "2        3    1                  4               1      3\n",
      "3        2    4                  2               2      3\n",
      "4        1    1                  3               4      3\n",
      "..     ...  ...                ...             ...    ...\n",
      "127      1    1                  4               3      3\n",
      "128      2    1                  2               1      1\n",
      "129      1    2                  1               2      2\n",
      "130      1    2                  2               1      2\n",
      "131      3    1                  1               2      1\n",
      "\n",
      "[132 rows x 5 columns]\n",
      "\n",
      "\u001b[1mAccuracy for different k and different distance metrics: \u001b[0m\n",
      "  Vectorized Euclidean Vectorized Manhattan Vectorized Minkowski  \\\n",
      "1              53.8462              46.1538              38.4615   \n",
      "3              69.2308              61.5385              61.5385   \n",
      "5              69.2308              46.1538              61.5385   \n",
      "7              53.8462              53.8462              53.8462   \n",
      "9              53.8462              46.1538              69.2308   \n",
      "\n",
      "  Hamming Distance  \n",
      "1          30.7692  \n",
      "3          30.7692  \n",
      "5          46.1538  \n",
      "7          38.4615  \n",
      "9          46.1538  \n",
      "\n",
      "\u001b[1mMean Accuracies for different Distance Metrics: \u001b[0m\n",
      "Vectorized Euclidean    60.000000\n",
      "Vectorized Manhattan    50.769231\n",
      "Vectorized Minkowski    56.923077\n",
      "Hamming Distance        38.461538\n",
      "dtype: float64\n",
      "\n",
      "Distance metric which performed best is \u001b[1mVectorized Euclidean\u001b[0m with Mean Accuracy \u001b[1m60.00\u001b[0m\n",
      "\n",
      "Maximum Accuracy : \u001b[1m69.23\u001b[0m\n",
      "\n",
      "Best k value is : \u001b[1m3\u001b[0m\n",
      "\n",
      "Plot comparing accuracies for different Distance Metrics:\n"
     ]
    },
    {
     "data": {
      "image/png": "[encoded data removed]",
      "text/plain": [
       "<Figure size 432x288 with 1 Axes>"
      ]
     },
     "metadata": {
      "needs_background": "light"
     },
     "output_type": "display_data"
    }
   ],
   "source": [
    "data = pd.read_csv('Datasets/hayes_roth/hayes-roth-no-name.data', header=None, names=['hobby', 'age', 'educational_level', 'marital_status', 'class'])\n",
    "print('\\033[1mHayes Roth Dataset: \\033[0m\\n', data)\n",
    "performAlgorithm(data)"
   ]
  },
  {
   "cell_type": "markdown",
   "metadata": {},
   "source": [
    "## kNN on Breast Cancer Dataset"
   ]
  },
  {
   "cell_type": "code",
   "execution_count": 10,
   "metadata": {
    "scrolled": true
   },
   "outputs": [
    {
     "name": "stdout",
     "output_type": "stream",
     "text": [
      "\u001b[1mBreast Cancer Dataset: \u001b[0m\n",
      "      age  menopause  tumor_size  inv_nodes  node_caps  deg_malig  breast  \\\n",
      "0      1          1           1          1          1          1       1   \n",
      "1      2          1           2          1          1          2       2   \n",
      "2      2          1           2          1          1          2       1   \n",
      "3      3          2           3          1          1          2       2   \n",
      "4      2          1           4          1          1          2       2   \n",
      "..   ...        ...         ...        ...        ...        ...     ...   \n",
      "281    1          1           1          1          1          2       1   \n",
      "282    1          1           2          1          1          1       1   \n",
      "283    3          2           2          1          1          3       2   \n",
      "284    2          2           1          4          1          1       1   \n",
      "285    4          2           1          4          1          1       1   \n",
      "\n",
      "     breast_quad  irradiat  class  \n",
      "0              1         1      1  \n",
      "1              2         1      1  \n",
      "2              1         1      1  \n",
      "3              3         1      1  \n",
      "4              4         1      1  \n",
      "..           ...       ...    ...  \n",
      "281            3         1      2  \n",
      "282            3         2      2  \n",
      "283            3         1      2  \n",
      "284            1         1      2  \n",
      "285            1         1      2  \n",
      "\n",
      "[286 rows x 10 columns]\n",
      "\n",
      "\u001b[1mAccuracy for different k and different distance metrics: \u001b[0m\n",
      "  Vectorized Euclidean Vectorized Manhattan Vectorized Minkowski  \\\n",
      "1              64.2857              46.4286              60.7143   \n",
      "3              82.1429              67.8571              78.5714   \n",
      "5              60.7143              67.8571              64.2857   \n",
      "7              82.1429              67.8571              78.5714   \n",
      "9              60.7143              57.1429              60.7143   \n",
      "\n",
      "  Hamming Distance  \n",
      "1          60.7143  \n",
      "3          67.8571  \n",
      "5          71.4286  \n",
      "7          82.1429  \n",
      "9          67.8571  \n",
      "\n",
      "\u001b[1mMean Accuracies for different Distance Metrics: \u001b[0m\n",
      "Vectorized Euclidean    70.000000\n",
      "Vectorized Manhattan    61.428571\n",
      "Vectorized Minkowski    68.571429\n",
      "Hamming Distance        70.000000\n",
      "dtype: float64\n",
      "\n",
      "Distance metric which performed best is \u001b[1mVectorized Euclidean\u001b[0m with Mean Accuracy \u001b[1m70.00\u001b[0m\n",
      "\n",
      "Maximum Accuracy : \u001b[1m82.14\u001b[0m\n",
      "\n",
      "Best k value is : \u001b[1m3\u001b[0m\n",
      "\n",
      "Plot comparing accuracies for different Distance Metrics:\n"
     ]
    },
    {
     "data": {
      "image/png": "[encoded data removed]",
      "text/plain": [
       "<Figure size 432x288 with 1 Axes>"
      ]
     },
     "metadata": {
      "needs_background": "light"
     },
     "output_type": "display_data"
    }
   ],
   "source": [
    "data = pd.read_csv('Datasets/breast_cancer/breast-cancer-number.data', header=None, names=['age', 'menopause', 'tumor_size', 'inv_nodes', 'node_caps', 'deg_malig', 'breast', 'breast_quad', 'irradiat', 'class'], index_col=False)\n",
    "print('\\033[1mBreast Cancer Dataset: \\033[0m\\n', data)\n",
    "performAlgorithm(data)"
   ]
  },
  {
   "cell_type": "markdown",
   "metadata": {},
   "source": [
    "## kNN on Car Evaluation Dataset"
   ]
  },
  {
   "cell_type": "code",
   "execution_count": 11,
   "metadata": {
    "scrolled": true
   },
   "outputs": [
    {
     "name": "stdout",
     "output_type": "stream",
     "text": [
      "\u001b[1mCar Evaluation Dataset: \u001b[0m\n",
      "       buying  maint  doors  persons  lug_boot  safety  class\n",
      "0          1      1      1        1         1       1      1\n",
      "1          1      1      1        1         1       2      1\n",
      "2          1      1      1        1         1       3      1\n",
      "3          1      1      1        1         2       1      1\n",
      "4          1      1      1        1         2       2      1\n",
      "...      ...    ...    ...      ...       ...     ...    ...\n",
      "1723       4      4      4        3         2       2      4\n",
      "1724       4      4      4        3         2       3      3\n",
      "1725       4      4      4        3         3       1      1\n",
      "1726       4      4      4        3         3       2      4\n",
      "1727       4      4      4        3         3       3      3\n",
      "\n",
      "[1728 rows x 7 columns]\n",
      "\n",
      "\u001b[1mAccuracy for different k and different distance metrics: \u001b[0m\n",
      "  Vectorized Euclidean Vectorized Manhattan Vectorized Minkowski  \\\n",
      "1              86.0465              66.8605               69.186   \n",
      "3              92.4419              63.9535              71.5116   \n",
      "5               94.186              65.6977              69.7674   \n",
      "7              95.3488              68.6047              71.5116   \n",
      "9               94.186              64.5349              71.5116   \n",
      "\n",
      "  Hamming Distance  \n",
      "1          48.8372  \n",
      "3           55.814  \n",
      "5          45.9302  \n",
      "7          44.7674  \n",
      "9          41.2791  \n",
      "\n",
      "\u001b[1mMean Accuracies for different Distance Metrics: \u001b[0m\n",
      "Vectorized Euclidean    92.441860\n",
      "Vectorized Manhattan    65.930233\n",
      "Vectorized Minkowski    70.697674\n",
      "Hamming Distance        47.325581\n",
      "dtype: float64\n",
      "\n",
      "Distance metric which performed best is \u001b[1mVectorized Euclidean\u001b[0m with Mean Accuracy \u001b[1m92.44\u001b[0m\n",
      "\n",
      "Maximum Accuracy : \u001b[1m95.35\u001b[0m\n",
      "\n",
      "Best k value is : \u001b[1m7\u001b[0m\n",
      "\n",
      "Plot comparing accuracies for different Distance Metrics:\n"
     ]
    },
    {
     "data": {
      "image/png": "[encoded data removed]",
      "text/plain": [
       "<Figure size 432x288 with 1 Axes>"
      ]
     },
     "metadata": {
      "needs_background": "light"
     },
     "output_type": "display_data"
    }
   ],
   "source": [
    "data = pd.read_csv('Datasets/car_evaluation/car-eval-number.data', header=None, names=['buying', 'maint', 'doors', 'persons', 'lug_boot', 'safety', 'class'], index_col=False)\n",
    "print('\\033[1mCar Evaluation Dataset: \\033[0m\\n', data)\n",
    "performAlgorithm(data)"
   ]
  }
 ],
 "metadata": {
  "kernelspec": {
   "display_name": "Python 3",
   "language": "python",
   "name": "python3"
  },
  "language_info": {
   "codemirror_mode": {
    "name": "ipython",
    "version": 3
   },
   "file_extension": ".py",
   "mimetype": "text/x-python",
   "name": "python",
   "nbconvert_exporter": "python",
   "pygments_lexer": "ipython3",
   "version": "3.8.1"
  }
 },
 "nbformat": 4,
 "nbformat_minor": 4
}
