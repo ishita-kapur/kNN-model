{
 "cells": [
  {
   "cell_type": "markdown",
   "metadata": {},
   "source": [
    "# Preprocessing Datasets\n",
    "\n",
    "#### Ishita Kapur, UTA ID: 1001753123\n",
    "\n",
    "The datasets used to compare the accuracy of the machine learning algorithm needs to be preprocessed.\n",
    "\n",
    "The algorithm accepts only numeric data. Categorical textual data needs to be converted to numeric data. The function **covertToNumeric()** implemented in this notebook converts the categorical textual data into numeric.\n",
    "\n",
    "The algorithm also assumes the last column to be the **class** label column. Data has been read from csv into Pandas dataframe and the columns have been reindexed."
   ]
  },
  {
   "cell_type": "code",
   "execution_count": 1,
   "metadata": {},
   "outputs": [],
   "source": [
    "import pandas as pd\n",
    "import numpy as np"
   ]
  },
  {
   "cell_type": "markdown",
   "metadata": {},
   "source": [
    "Following is the function to convert categorical textual data into numeric."
   ]
  },
  {
   "cell_type": "code",
   "execution_count": 2,
   "metadata": {},
   "outputs": [],
   "source": [
    "def convertToNumeric(data):\n",
    "    dict_encode = {}\n",
    "    for col in list(data):\n",
    "        possible = data[col].unique()\n",
    "        dict_encode[col] = {key:i+1 for i, key in enumerate(possible)}\n",
    "    data_numeric = data\n",
    "    for i in dict_encode:\n",
    "        data_numeric[i].replace(dict_encode[i], inplace=True)\n",
    "    return data_numeric"
   ]
  },
  {
   "cell_type": "markdown",
   "metadata": {},
   "source": [
    "### Hayes Roth Dataset\n",
    "\n",
    "The data in this dataset is numeric. The column **'name'** needs to be dropped, because even though it is numeric data it is unique for each row in the dataset and it is just like an identity and does not provide information related to the class. The preprocessed data has been stored in a separate csv file."
   ]
  },
  {
   "cell_type": "code",
   "execution_count": 3,
   "metadata": {},
   "outputs": [
    {
     "name": "stdout",
     "output_type": "stream",
     "text": [
      "\n",
      "Original Dataset\n",
      "      name  hobby  age  educational_level  marital_status  class\n",
      "0      92      2    1                  1               2      1\n",
      "1      10      2    1                  3               2      2\n",
      "2      83      3    1                  4               1      3\n",
      "3      61      2    4                  2               2      3\n",
      "4     107      1    1                  3               4      3\n",
      "..    ...    ...  ...                ...             ...    ...\n",
      "127    44      1    1                  4               3      3\n",
      "128    40      2    1                  2               1      1\n",
      "129    90      1    2                  1               2      2\n",
      "130    21      1    2                  2               1      2\n",
      "131     9      3    1                  1               2      1\n",
      "\n",
      "[132 rows x 6 columns]\n",
      "\n",
      "Preprocessed Dataset\n",
      "      hobby  age  educational_level  marital_status  class\n",
      "0        2    1                  1               2      1\n",
      "1        2    1                  3               2      2\n",
      "2        3    1                  4               1      3\n",
      "3        2    4                  2               2      3\n",
      "4        1    1                  3               4      3\n",
      "..     ...  ...                ...             ...    ...\n",
      "127      1    1                  4               3      3\n",
      "128      2    1                  2               1      1\n",
      "129      1    2                  1               2      2\n",
      "130      1    2                  2               1      2\n",
      "131      3    1                  1               2      1\n",
      "\n",
      "[132 rows x 5 columns]\n"
     ]
    }
   ],
   "source": [
    "data_hayes = pd.read_csv('Datasets/hayes_roth/hayes-roth.data', header=None, names=['name', 'hobby', 'age', 'educational_level', 'marital_status', 'class'])\n",
    "print('\\nOriginal Dataset\\n', data_hayes)\n",
    "data_hayes = data_hayes.drop(columns=['name'])\n",
    "print('\\nPreprocessed Dataset\\n', data_hayes)\n",
    "data_hayes.to_csv('Datasets/hayes_roth/hayes-roth-no-name.data',header=False,index=False)"
   ]
  },
  {
   "cell_type": "markdown",
   "metadata": {},
   "source": [
    "### Car Evaluation Dataset\n",
    "\n",
    "The columns in this dataset have categorical textual data. The dataset is converted into numeric using the function above. The numeric dataset has been stored in a different csv file."
   ]
  },
  {
   "cell_type": "code",
   "execution_count": 4,
   "metadata": {},
   "outputs": [
    {
     "name": "stdout",
     "output_type": "stream",
     "text": [
      "\n",
      "Original Dataset\n",
      "      buying  maint  doors persons lug_boot safety  class\n",
      "0     vhigh  vhigh      2       2    small    low  unacc\n",
      "1     vhigh  vhigh      2       2    small    med  unacc\n",
      "2     vhigh  vhigh      2       2    small   high  unacc\n",
      "3     vhigh  vhigh      2       2      med    low  unacc\n",
      "4     vhigh  vhigh      2       2      med    med  unacc\n",
      "...     ...    ...    ...     ...      ...    ...    ...\n",
      "1723    low    low  5more    more      med    med   good\n",
      "1724    low    low  5more    more      med   high  vgood\n",
      "1725    low    low  5more    more      big    low  unacc\n",
      "1726    low    low  5more    more      big    med   good\n",
      "1727    low    low  5more    more      big   high  vgood\n",
      "\n",
      "[1728 rows x 7 columns]\n",
      "\n",
      "Preprocessed Dataset\n",
      "       buying  maint  doors  persons  lug_boot  safety  class\n",
      "0          1      1      1        1         1       1      1\n",
      "1          1      1      1        1         1       2      1\n",
      "2          1      1      1        1         1       3      1\n",
      "3          1      1      1        1         2       1      1\n",
      "4          1      1      1        1         2       2      1\n",
      "...      ...    ...    ...      ...       ...     ...    ...\n",
      "1723       4      4      4        3         2       2      4\n",
      "1724       4      4      4        3         2       3      3\n",
      "1725       4      4      4        3         3       1      1\n",
      "1726       4      4      4        3         3       2      4\n",
      "1727       4      4      4        3         3       3      3\n",
      "\n",
      "[1728 rows x 7 columns]\n"
     ]
    }
   ],
   "source": [
    "data_car = pd.read_csv('Datasets/car_evaluation/car.data', header=None, names=['buying', 'maint', 'doors', 'persons', 'lug_boot', 'safety', 'class'], index_col=False)\n",
    "print('\\nOriginal Dataset\\n', data_car)\n",
    "data_car_numeric = convertToNumeric(data_car)\n",
    "data_car_numeric.to_csv('Datasets/car_evaluation/car-eval-number.data',header=False,index=False)\n",
    "print('\\nPreprocessed Dataset\\n', data_car_numeric)"
   ]
  },
  {
   "cell_type": "markdown",
   "metadata": {},
   "source": [
    "### Breast Cancer Dataset\n",
    "\n",
    "The columns in the dataset are reindexed to make **'class'** as the last column. The columns in this dataset have categorical textual data. The dataset is then converted into numeric using the function above. The numeric dataset has been stored in a different csv file."
   ]
  },
  {
   "cell_type": "code",
   "execution_count": 5,
   "metadata": {},
   "outputs": [
    {
     "name": "stdout",
     "output_type": "stream",
     "text": [
      "\n",
      "Original Dataset\n",
      "                     class    age menopause tumor_size inv_nodes node_caps  \\\n",
      "0    no-recurrence-events  30-39   premeno      30-34       0-2        no   \n",
      "1    no-recurrence-events  40-49   premeno      20-24       0-2        no   \n",
      "2    no-recurrence-events  40-49   premeno      20-24       0-2        no   \n",
      "3    no-recurrence-events  60-69      ge40      15-19       0-2        no   \n",
      "4    no-recurrence-events  40-49   premeno        0-4       0-2        no   \n",
      "..                    ...    ...       ...        ...       ...       ...   \n",
      "281     recurrence-events  30-39   premeno      30-34       0-2        no   \n",
      "282     recurrence-events  30-39   premeno      20-24       0-2        no   \n",
      "283     recurrence-events  60-69      ge40      20-24       0-2        no   \n",
      "284     recurrence-events  40-49      ge40      30-34       3-5        no   \n",
      "285     recurrence-events  50-59      ge40      30-34       3-5        no   \n",
      "\n",
      "     deg_malig breast breast_quad irradiat  \n",
      "0            3   left    left_low       no  \n",
      "1            2  right    right_up       no  \n",
      "2            2   left    left_low       no  \n",
      "3            2  right     left_up       no  \n",
      "4            2  right   right_low       no  \n",
      "..         ...    ...         ...      ...  \n",
      "281          2   left     left_up       no  \n",
      "282          3   left     left_up      yes  \n",
      "283          1  right     left_up       no  \n",
      "284          3   left    left_low       no  \n",
      "285          3   left    left_low       no  \n",
      "\n",
      "[286 rows x 10 columns]\n",
      "\n",
      "Preprocessed Dataset\n",
      "      age  menopause  tumor_size  inv_nodes  node_caps  deg_malig  breast  \\\n",
      "0      1          1           1          1          1          1       1   \n",
      "1      2          1           2          1          1          2       2   \n",
      "2      2          1           2          1          1          2       1   \n",
      "3      3          2           3          1          1          2       2   \n",
      "4      2          1           4          1          1          2       2   \n",
      "..   ...        ...         ...        ...        ...        ...     ...   \n",
      "281    1          1           1          1          1          2       1   \n",
      "282    1          1           2          1          1          1       1   \n",
      "283    3          2           2          1          1          3       2   \n",
      "284    2          2           1          4          1          1       1   \n",
      "285    4          2           1          4          1          1       1   \n",
      "\n",
      "     breast_quad  irradiat  class  \n",
      "0              1         1      1  \n",
      "1              2         1      1  \n",
      "2              1         1      1  \n",
      "3              3         1      1  \n",
      "4              4         1      1  \n",
      "..           ...       ...    ...  \n",
      "281            3         1      2  \n",
      "282            3         2      2  \n",
      "283            3         1      2  \n",
      "284            1         1      2  \n",
      "285            1         1      2  \n",
      "\n",
      "[286 rows x 10 columns]\n"
     ]
    }
   ],
   "source": [
    "data_cancer = pd.read_csv('Datasets/breast_cancer/breast-cancer.data', header=None, names=['class', 'age', 'menopause', 'tumor_size', 'inv_nodes', 'node_caps', 'deg_malig', 'breast', 'breast_quad', 'irradiat'], index_col=False)\n",
    "print('\\nOriginal Dataset\\n', data_cancer)\n",
    "data_cancer = data_cancer.reindex(columns=['age', 'menopause', 'tumor_size', 'inv_nodes', 'node_caps', 'deg_malig', 'breast', 'breast_quad', 'irradiat', 'class'])\n",
    "data_cancer_numeric = convertToNumeric(data_cancer)\n",
    "data_cancer_numeric.to_csv('Datasets/breast_cancer/breast-cancer-number.data',header=False,index=False)\n",
    "print('\\nPreprocessed Dataset\\n', data_cancer_numeric)"
   ]
  }
 ],
 "metadata": {
  "kernelspec": {
   "display_name": "Python 3",
   "language": "python",
   "name": "python3"
  },
  "language_info": {
   "codemirror_mode": {
    "name": "ipython",
    "version": 3
   },
   "file_extension": ".py",
   "mimetype": "text/x-python",
   "name": "python",
   "nbconvert_exporter": "python",
   "pygments_lexer": "ipython3",
   "version": "3.8.1"
  }
 },
 "nbformat": 4,
 "nbformat_minor": 4
}
